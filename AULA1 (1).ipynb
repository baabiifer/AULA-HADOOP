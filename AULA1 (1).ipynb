{
 "cells": [
  {
   "cell_type": "code",
   "execution_count": 1,
   "id": "3def79cc-8dbe-42f4-9c78-5481cbe86f50",
   "metadata": {},
   "outputs": [],
   "source": [
    "from pyspark.sql import SparkSession"
   ]
  },
  {
   "cell_type": "code",
   "execution_count": 6,
   "id": "4250d9af-ddc3-411e-98de-49a55c376144",
   "metadata": {},
   "outputs": [],
   "source": [
    "spark = SparkSession \\\n",
    "       .builder \\\n",
    "       .appName('Aula') \\\n",
    "       .enableHiveSupport() \\\n",
    "       .getOrCreate()"
   ]
  },
  {
   "cell_type": "code",
   "execution_count": 7,
   "id": "e91b4193-2e56-4a03-a069-bf051088616d",
   "metadata": {},
   "outputs": [
    {
     "data": {
      "text/html": [
       "\n",
       "            <div>\n",
       "                <p><b>SparkSession - hive</b></p>\n",
       "                \n",
       "        <div>\n",
       "            <p><b>SparkContext</b></p>\n",
       "\n",
       "            <p><a href=\"http://spark-master:4040\">Spark UI</a></p>\n",
       "\n",
       "            <dl>\n",
       "              <dt>Version</dt>\n",
       "                <dd><code>v3.3.1</code></dd>\n",
       "              <dt>Master</dt>\n",
       "                <dd><code>local[*]</code></dd>\n",
       "              <dt>AppName</dt>\n",
       "                <dd><code>Aula</code></dd>\n",
       "            </dl>\n",
       "        </div>\n",
       "        \n",
       "            </div>\n",
       "        "
      ],
      "text/plain": [
       "<pyspark.sql.session.SparkSession at 0x7ff61fb5b5b0>"
      ]
     },
     "execution_count": 7,
     "metadata": {},
     "output_type": "execute_result"
    }
   ],
   "source": [
    "spark"
   ]
  },
  {
   "cell_type": "code",
   "execution_count": 8,
   "id": "4fbba989-0f64-4663-8c78-3666631c665d",
   "metadata": {},
   "outputs": [],
   "source": [
    "df_aluno = spark.createDataFrame([\n",
    "        {\"id\": 1,\"nome\": \"fabio\"},\n",
    "        {\"id\": 2,\"nome\": \"pedro\"}\n",
    "])"
   ]
  },
  {
   "cell_type": "code",
   "execution_count": 9,
   "id": "099d3997-916d-4f46-b1ad-b6b2fb7d5aa6",
   "metadata": {},
   "outputs": [
    {
     "data": {
      "text/plain": [
       "pyspark.sql.dataframe.DataFrame"
      ]
     },
     "execution_count": 9,
     "metadata": {},
     "output_type": "execute_result"
    }
   ],
   "source": [
    "type(df_aluno)"
   ]
  },
  {
   "cell_type": "code",
   "execution_count": 10,
   "id": "d40f41a4-b212-4541-9cda-e4b0173b71dc",
   "metadata": {},
   "outputs": [
    {
     "name": "stdout",
     "output_type": "stream",
     "text": [
      "+---+-----+\n",
      "| id| nome|\n",
      "+---+-----+\n",
      "|  1|fabio|\n",
      "|  2|pedro|\n",
      "+---+-----+\n",
      "\n"
     ]
    }
   ],
   "source": [
    "df_aluno.show()"
   ]
  },
  {
   "cell_type": "code",
   "execution_count": 11,
   "id": "810b577b-1340-4f12-8054-0ce36b08e5f9",
   "metadata": {},
   "outputs": [],
   "source": [
    "##CSV HADOOP"
   ]
  },
  {
   "cell_type": "code",
   "execution_count": 14,
   "id": "771024c1-1f37-4b20-a2a0-038ea30e8cbe",
   "metadata": {},
   "outputs": [],
   "source": [
    "df_csv = spark.read.csv('/datalake/raw/base.csv',header=True,sep=',')"
   ]
  },
  {
   "cell_type": "code",
   "execution_count": 15,
   "id": "47735f82-bed3-41a3-ad07-3d2a1886f372",
   "metadata": {},
   "outputs": [
    {
     "name": "stdout",
     "output_type": "stream",
     "text": [
      "+-------+----+---------+\n",
      "|usuario|item|avaliacao|\n",
      "+-------+----+---------+\n",
      "|    109|   9|        3|\n",
      "|    174| 412|        1|\n",
      "|      7| 208|        5|\n",
      "|    371|  97|        5|\n",
      "|    296| 255|        2|\n",
      "|    280|  82|        2|\n",
      "|    271| 275|        4|\n",
      "|    110| 791|        2|\n",
      "|     59| 926|        1|\n",
      "|    217| 576|        1|\n",
      "|    145| 665|        5|\n",
      "|    334| 204|        4|\n",
      "|     42| 568|        4|\n",
      "|    200| 143|        5|\n",
      "|     89| 387|        5|\n",
      "|    311| 588|        4|\n",
      "|    235| 269|        4|\n",
      "|    287| 156|        5|\n",
      "|    344| 204|        4|\n",
      "|     43| 289|        4|\n",
      "+-------+----+---------+\n",
      "only showing top 20 rows\n",
      "\n"
     ]
    }
   ],
   "source": [
    "df_csv.show()"
   ]
  },
  {
   "cell_type": "code",
   "execution_count": 16,
   "id": "6ce5835f-c54e-4e53-a298-26a4d73cd282",
   "metadata": {},
   "outputs": [],
   "source": [
    "df_json = spark.read.json('/datalake/raw/Employees100K.json')"
   ]
  },
  {
   "cell_type": "code",
   "execution_count": 17,
   "id": "91b7819c-bc88-49f5-a437-ad8f00d91df6",
   "metadata": {},
   "outputs": [
    {
     "data": {
      "text/plain": [
       "200000"
      ]
     },
     "execution_count": 17,
     "metadata": {},
     "output_type": "execute_result"
    }
   ],
   "source": [
    "df_json.count()"
   ]
  },
  {
   "cell_type": "code",
   "execution_count": 18,
   "id": "4049d565-e7ca-41a0-a443-f58b60cf9f9d",
   "metadata": {},
   "outputs": [
    {
     "name": "stdout",
     "output_type": "stream",
     "text": [
      "root\n",
      " |-- Address: string (nullable = true)\n",
      " |-- Age: long (nullable = true)\n",
      " |-- DateOfJoining: string (nullable = true)\n",
      " |-- Designation: string (nullable = true)\n",
      " |-- FirstName: string (nullable = true)\n",
      " |-- Gender: string (nullable = true)\n",
      " |-- Interests: string (nullable = true)\n",
      " |-- LastName: string (nullable = true)\n",
      " |-- MaritalStatus: string (nullable = true)\n",
      " |-- Salary: string (nullable = true)\n",
      " |-- index: struct (nullable = true)\n",
      " |    |-- _index: string (nullable = true)\n",
      " |    |-- _type: string (nullable = true)\n",
      "\n"
     ]
    }
   ],
   "source": [
    "df_json.printSchema()"
   ]
  },
  {
   "cell_type": "code",
   "execution_count": 19,
   "id": "1d9789e8-47c8-48a1-b089-fb1cce25c8b1",
   "metadata": {},
   "outputs": [],
   "source": [
    "#S3\n"
   ]
  },
  {
   "cell_type": "code",
   "execution_count": 23,
   "id": "38f2f901-87e9-441e-ab75-086fca12883d",
   "metadata": {},
   "outputs": [],
   "source": [
    "df_dados = spark.read.json('s3a://camada-bronze/dados')"
   ]
  },
  {
   "cell_type": "code",
   "execution_count": 24,
   "id": "480af3f0-5bc5-42ce-bcad-1682806c622e",
   "metadata": {},
   "outputs": [
    {
     "name": "stdout",
     "output_type": "stream",
     "text": [
      "+------------+------+-----+---------+-----------------+-------+-----+\n",
      "|estado_civil|genero|idade|  produto|produto_categoria|usuario|valor|\n",
      "+------------+------+-----+---------+-----------------+-------+-----+\n",
      "|           0|     M|36-45|P00265242|                5|1001640| 8771|\n",
      "|           0|     M|36-45|P00250342|               16|1001640| 8146|\n",
      "|           0|     M|36-45|P00148542|                1|1001640| 7949|\n",
      "|           0|     M|36-45|P00071242|                1|1001640|11506|\n",
      "|           0|     M|26-35|P00363442|                1|1001641|15624|\n",
      "|           0|     M|26-35|P00355142|                1|1001641|19000|\n",
      "|           0|     M|26-35|P00350442|                2|1001641| 6630|\n",
      "|           0|     M|26-35|P00024742|                8|1001641| 9823|\n",
      "|           0|     M|26-35|P00226942|               11|1001641| 1715|\n",
      "|           0|     M|26-35|P00184942|                1|1001641|19692|\n",
      "|           0|     M|26-35|P00358242|                8|1001641| 6071|\n",
      "|           0|     M|51-55|P00116142|               10|1001642|18436|\n",
      "|           0|     M|51-55|P00295242|                8|1001642| 7777|\n",
      "|           0|     M|51-55|P00339842|                1|1001642|11927|\n",
      "|           0|     M|51-55|P00339542|                1|1001642|11713|\n",
      "|           0|     M|51-55|P00183442|                1|1001642|12058|\n",
      "|           0|     M|46-50|P00184042|                1|1001643|19353|\n",
      "|           0|     M|46-50|P00237542|                1|1001643|19289|\n",
      "|           0|     M|46-50|P00002142|                1|1001643|19419|\n",
      "|           0|     M|46-50|P00057442|                5|1001643| 8829|\n",
      "+------------+------+-----+---------+-----------------+-------+-----+\n",
      "only showing top 20 rows\n",
      "\n"
     ]
    }
   ],
   "source": [
    "df_dados.show()"
   ]
  },
  {
   "cell_type": "code",
   "execution_count": 25,
   "id": "b8222f41-5212-43bf-896d-b05d966ca5e6",
   "metadata": {},
   "outputs": [],
   "source": [
    "##BANCO DE DADOS"
   ]
  },
  {
   "cell_type": "code",
   "execution_count": 50,
   "id": "5f03621e-31fa-41e6-a9cc-84171f346846",
   "metadata": {},
   "outputs": [],
   "source": [
    "conn = 'jdbc:postgresql://postgres:5432/dvdrental'"
   ]
  },
  {
   "cell_type": "code",
   "execution_count": 51,
   "id": "83cfecf5-fa42-4016-9cbf-37760bff6ce1",
   "metadata": {},
   "outputs": [],
   "source": [
    "prop = { \n",
    "    \"user\":\"admin\",\n",
    "    \"password\" : \"admin\",\n",
    "    \"driver\" : \"org.postgresql.Driver\"\n",
    "}"
   ]
  },
  {
   "cell_type": "code",
   "execution_count": 37,
   "id": "b18c67f3-de29-4ae1-aeb7-3125189a2ee4",
   "metadata": {},
   "outputs": [],
   "source": [
    "df_city = spark.read.jdbc(url=conn,table='public.city',properties=prop)"
   ]
  },
  {
   "cell_type": "code",
   "execution_count": 38,
   "id": "20eb4e09-0b77-4618-bf58-741b60fb3436",
   "metadata": {},
   "outputs": [
    {
     "name": "stdout",
     "output_type": "stream",
     "text": [
      "+-------+--------------------+----------+-------------------+\n",
      "|city_id|                city|country_id|        last_update|\n",
      "+-------+--------------------+----------+-------------------+\n",
      "|      2|                Abha|        82|2006-02-15 09:45:25|\n",
      "|      3|           Abu Dhabi|       101|2006-02-15 09:45:25|\n",
      "|      4|                Acua|        60|2006-02-15 09:45:25|\n",
      "|      5|               Adana|        97|2006-02-15 09:45:25|\n",
      "|      6|         Addis Abeba|        31|2006-02-15 09:45:25|\n",
      "|      7|                Aden|       107|2006-02-15 09:45:25|\n",
      "|      8|               Adoni|        44|2006-02-15 09:45:25|\n",
      "|      9|          Ahmadnagar|        44|2006-02-15 09:45:25|\n",
      "|     10|            Akishima|        50|2006-02-15 09:45:25|\n",
      "|     11|               Akron|       103|2006-02-15 09:45:25|\n",
      "|     12|              al-Ayn|       101|2006-02-15 09:45:25|\n",
      "|     13|           al-Hawiya|        82|2006-02-15 09:45:25|\n",
      "|     14|           al-Manama|        11|2006-02-15 09:45:25|\n",
      "|     15|          al-Qadarif|        89|2006-02-15 09:45:25|\n",
      "|     16|            al-Qatif|        82|2006-02-15 09:45:25|\n",
      "|     17|         Alessandria|        49|2006-02-15 09:45:25|\n",
      "|     18|Allappuzha (Allep...|        44|2006-02-15 09:45:25|\n",
      "|     19|             Allende|        60|2006-02-15 09:45:25|\n",
      "|     20|     Almirante Brown|         6|2006-02-15 09:45:25|\n",
      "|     21|            Alvorada|        15|2006-02-15 09:45:25|\n",
      "+-------+--------------------+----------+-------------------+\n",
      "only showing top 20 rows\n",
      "\n"
     ]
    }
   ],
   "source": [
    "df_city.show()"
   ]
  },
  {
   "cell_type": "code",
   "execution_count": 39,
   "id": "414c41ad-1cf3-4712-a2ba-138392449e5c",
   "metadata": {},
   "outputs": [
    {
     "name": "stdout",
     "output_type": "stream",
     "text": [
      "root\n",
      " |-- city_id: integer (nullable = true)\n",
      " |-- city: string (nullable = true)\n",
      " |-- country_id: short (nullable = true)\n",
      " |-- last_update: timestamp (nullable = true)\n",
      "\n"
     ]
    }
   ],
   "source": [
    "df_city.printSchema()"
   ]
  },
  {
   "cell_type": "code",
   "execution_count": 52,
   "id": "618dffea-857a-413b-a2c5-f895423f5102",
   "metadata": {},
   "outputs": [],
   "source": [
    "query = '(select c.city_id, city , country  from public.city c \\\n",
    "inner join public.country c2 on c.country_id = c2.country_id ) as tab'"
   ]
  },
  {
   "cell_type": "code",
   "execution_count": 53,
   "id": "b04f9f47-d98e-4b0e-a806-1ee790cc574b",
   "metadata": {},
   "outputs": [],
   "source": [
    "df_query = spark.read.jdbc(url=conn,table=query,properties=prop)"
   ]
  },
  {
   "cell_type": "code",
   "execution_count": 56,
   "id": "063f1e5c-e1ef-4d41-bedd-cefbccf9a298",
   "metadata": {},
   "outputs": [
    {
     "name": "stdout",
     "output_type": "stream",
     "text": [
      "+-------+-----------+--------------------+\n",
      "|city_id|       city|             country|\n",
      "+-------+-----------+--------------------+\n",
      "|      2|       Abha|        Saudi Arabia|\n",
      "|      3|  Abu Dhabi|United Arab Emirates|\n",
      "|      4|       Acua|              Mexico|\n",
      "|      5|      Adana|              Turkey|\n",
      "|      6|Addis Abeba|            Ethiopia|\n",
      "+-------+-----------+--------------------+\n",
      "only showing top 5 rows\n",
      "\n"
     ]
    }
   ],
   "source": [
    "df_query.show(5)"
   ]
  },
  {
   "cell_type": "code",
   "execution_count": 58,
   "id": "77ad6a49-439e-4d03-adf5-3adcbf282a41",
   "metadata": {},
   "outputs": [],
   "source": [
    "df_csv.write.json('/datalake/trusted/json/')"
   ]
  },
  {
   "cell_type": "code",
   "execution_count": 59,
   "id": "98c48aea-485c-4c7d-96e8-9abe3c343c1d",
   "metadata": {},
   "outputs": [],
   "source": [
    "df_csv.write.parquet('/datalake/trusted/parquet/')"
   ]
  },
  {
   "cell_type": "code",
   "execution_count": 61,
   "id": "2aa2c804-4598-490a-a6ff-1dc54a57e9d5",
   "metadata": {},
   "outputs": [],
   "source": [
    "df_parquet = spark.read.parquet('/datalake/trusted/parquet')"
   ]
  },
  {
   "cell_type": "code",
   "execution_count": 62,
   "id": "9fec16c6-c7cd-4944-9b05-3a9d23e8720d",
   "metadata": {},
   "outputs": [
    {
     "name": "stdout",
     "output_type": "stream",
     "text": [
      "+-------+----+---------+\n",
      "|usuario|item|avaliacao|\n",
      "+-------+----+---------+\n",
      "|    109|   9|        3|\n",
      "|    174| 412|        1|\n",
      "|      7| 208|        5|\n",
      "|    371|  97|        5|\n",
      "|    296| 255|        2|\n",
      "+-------+----+---------+\n",
      "only showing top 5 rows\n",
      "\n"
     ]
    }
   ],
   "source": [
    "df_parquet.show(5)"
   ]
  },
  {
   "cell_type": "code",
   "execution_count": 65,
   "id": "3a86a781-901f-42d3-9f70-890167b85ea0",
   "metadata": {},
   "outputs": [],
   "source": [
    "df_csv.write.orc('/datalake/trusted/orc/', mode='append',compression='zlib')"
   ]
  },
  {
   "cell_type": "code",
   "execution_count": 66,
   "id": "bc01876a-dfb4-4b1b-a121-2657fc497f18",
   "metadata": {},
   "outputs": [],
   "source": [
    "df_csv.write.format('hive').saveAsTable('default.csv')"
   ]
  },
  {
   "cell_type": "code",
   "execution_count": 67,
   "id": "b8562a61-475c-4a15-ae36-1bcf71897639",
   "metadata": {},
   "outputs": [],
   "source": [
    "df_csv.write.format('hive').insertInto('default.csv2')"
   ]
  },
  {
   "cell_type": "code",
   "execution_count": 68,
   "id": "278e39fc-366c-4966-898d-d17252841028",
   "metadata": {},
   "outputs": [],
   "source": [
    "df_results = spark.read.csv('/datalake/raw/results.csv',header=True)"
   ]
  },
  {
   "cell_type": "code",
   "execution_count": 69,
   "id": "be987609-96e4-47d5-a37b-aef82b9ad648",
   "metadata": {},
   "outputs": [
    {
     "name": "stdout",
     "output_type": "stream",
     "text": [
      "+----------+----------------+-------------+--------------+--------------+--------------+---------+-------------------+-----------+\n",
      "|      date|   home_teamName|away_teamName|home_scoreHome|away_scoreAway|tournamentName| cityCity|     countryCountry|neutralTRUE|\n",
      "+----------+----------------+-------------+--------------+--------------+--------------+---------+-------------------+-----------+\n",
      "|1872-11-30|        Scotland|      England|             0|             0|      Friendly|  Glasgow|           Scotland|      FALSE|\n",
      "|1873-03-08|         England|     Scotland|             4|             2|      Friendly|   London|            England|      FALSE|\n",
      "|1874-03-07|        Scotland|      England|             2|             1|      Friendly|  Glasgow|           Scotland|      FALSE|\n",
      "|1875-03-06|         England|     Scotland|             2|             2|      Friendly|   London|            England|      FALSE|\n",
      "|1876-03-04|        Scotland|      England|             3|             0|      Friendly|  Glasgow|           Scotland|      FALSE|\n",
      "|1876-03-25|        Scotland|        Wales|             4|             0|      Friendly|  Glasgow|           Scotland|      FALSE|\n",
      "|1877-03-03|         England|     Scotland|             1|             3|      Friendly|   London|            England|      FALSE|\n",
      "|1877-03-05|           Wales|     Scotland|             0|             2|      Friendly|  Wrexham|              Wales|      FALSE|\n",
      "|1878-03-02|        Scotland|      England|             7|             2|      Friendly|  Glasgow|           Scotland|      FALSE|\n",
      "|1878-03-23|        Scotland|        Wales|             9|             0|      Friendly|  Glasgow|           Scotland|      FALSE|\n",
      "|1879-01-18|         England|        Wales|             2|             1|      Friendly|   London|            England|      FALSE|\n",
      "|1879-04-05|         England|     Scotland|             5|             4|      Friendly|   London|            England|      FALSE|\n",
      "|1879-04-07|           Wales|     Scotland|             0|             3|      Friendly|  Wrexham|              Wales|      FALSE|\n",
      "|1880-03-13|        Scotland|      England|             5|             4|      Friendly|  Glasgow|           Scotland|      FALSE|\n",
      "|1880-03-15|           Wales|      England|             2|             3|      Friendly|  Wrexham|              Wales|      FALSE|\n",
      "|1880-03-27|        Scotland|        Wales|             5|             1|      Friendly|  Glasgow|           Scotland|      FALSE|\n",
      "|1881-02-26|         England|        Wales|             0|             1|      Friendly|Blackburn|            England|      FALSE|\n",
      "|1881-03-12|         England|     Scotland|             1|             6|      Friendly|   London|            England|      FALSE|\n",
      "|1881-03-14|           Wales|     Scotland|             1|             5|      Friendly|  Wrexham|              Wales|      FALSE|\n",
      "|1882-02-18|Northern Ireland|      England|             0|            13|      Friendly|  Belfast|Republic of Ireland|      FALSE|\n",
      "+----------+----------------+-------------+--------------+--------------+--------------+---------+-------------------+-----------+\n",
      "only showing top 20 rows\n",
      "\n"
     ]
    }
   ],
   "source": [
    "df_results.show()"
   ]
  },
  {
   "cell_type": "code",
   "execution_count": 74,
   "id": "5da4e00d-ec30-48c7-9bd3-a1da65176365",
   "metadata": {},
   "outputs": [],
   "source": [
    "jogos = df_results \\\n",
    "    .withColumnRenamed('date','dt') \\\n",
    "    .withColumnRenamed('home_teamName','mandante') \\\n",
    "    .withColumnRenamed('away_teamName','visitante') \\\n",
    "    .withColumnRenamed('home_scoreHome','gol_mandante') \\\n",
    "    .withColumnRenamed('away_scoreAway','gol_visitante')  \\\n",
    "    .withColumnRenamed('tournamentName','torneio') \\\n",
    "    .withColumnRenamed('cityCity','cidade') \\\n",
    "    .withColumnRenamed('countryCountry','pais') \\\n",
    "    .drop('neutralTRUE')"
   ]
  },
  {
   "cell_type": "code",
   "execution_count": 75,
   "id": "1fcc240d-f3e3-4b06-9715-c9ebaac69265",
   "metadata": {},
   "outputs": [
    {
     "name": "stdout",
     "output_type": "stream",
     "text": [
      "+----------+--------+---------+------------+-------------+--------+-------+--------+\n",
      "|        dt|mandante|visitante|gol_mandante|gol_visitante| torneio| cidade|    pais|\n",
      "+----------+--------+---------+------------+-------------+--------+-------+--------+\n",
      "|1872-11-30|Scotland|  England|           0|            0|Friendly|Glasgow|Scotland|\n",
      "|1873-03-08| England| Scotland|           4|            2|Friendly| London| England|\n",
      "|1874-03-07|Scotland|  England|           2|            1|Friendly|Glasgow|Scotland|\n",
      "|1875-03-06| England| Scotland|           2|            2|Friendly| London| England|\n",
      "|1876-03-04|Scotland|  England|           3|            0|Friendly|Glasgow|Scotland|\n",
      "+----------+--------+---------+------------+-------------+--------+-------+--------+\n",
      "only showing top 5 rows\n",
      "\n"
     ]
    }
   ],
   "source": [
    "jogos.show(5)"
   ]
  },
  {
   "cell_type": "code",
   "execution_count": 76,
   "id": "4b3563cb-0232-432c-8c58-0cb87c287a32",
   "metadata": {},
   "outputs": [
    {
     "name": "stdout",
     "output_type": "stream",
     "text": [
      "root\n",
      " |-- dt: string (nullable = true)\n",
      " |-- mandante: string (nullable = true)\n",
      " |-- visitante: string (nullable = true)\n",
      " |-- gol_mandante: string (nullable = true)\n",
      " |-- gol_visitante: string (nullable = true)\n",
      " |-- torneio: string (nullable = true)\n",
      " |-- cidade: string (nullable = true)\n",
      " |-- pais: string (nullable = true)\n",
      "\n"
     ]
    }
   ],
   "source": [
    "jogos.printSchema()"
   ]
  },
  {
   "cell_type": "code",
   "execution_count": 77,
   "id": "3e3fda06-04be-4252-801b-465a0ac326c0",
   "metadata": {},
   "outputs": [
    {
     "name": "stdout",
     "output_type": "stream",
     "text": [
      "+-------+----------+-------------+-------------+------------------+------------------+---------------+-------------------+-----------+\n",
      "|summary|        dt|     mandante|    visitante|      gol_mandante|     gol_visitante|        torneio|             cidade|       pais|\n",
      "+-------+----------+-------------+-------------+------------------+------------------+---------------+-------------------+-----------+\n",
      "|  count|     40839|        40839|        40839|             40839|             40839|          40839|              40839|      40839|\n",
      "|   mean|      null|         null|         null|1.7457087587844953| 1.188104507945836|           null|               null|       null|\n",
      "| stddev|      null|         null|         null| 1.749144918253105|1.4051198000976632|           null|               null|       null|\n",
      "|    min|1872-11-30|     Abkhazia|     Abkhazia|                 0|                 0|ABCS Tournament|6th of October City|Afghanistan|\n",
      "|    max|2019-07-20|Åland Islands|Åland Islands|                 9|                 9|World Unity Cup|             ‘Atele|       Éire|\n",
      "+-------+----------+-------------+-------------+------------------+------------------+---------------+-------------------+-----------+\n",
      "\n"
     ]
    }
   ],
   "source": [
    "jogos.describe().show()"
   ]
  },
  {
   "cell_type": "code",
   "execution_count": 82,
   "id": "721da754-f310-4e3d-a16b-f2c251e2a845",
   "metadata": {},
   "outputs": [],
   "source": [
    "from pyspark.sql.functions import col\n",
    "final = jogos \\\n",
    "    .withColumn('dt',col('dt').cast('date')) \\\n",
    "    .withColumn('gol_mandante',col('gol_mandante').cast('integer')) \\\n",
    "    .withColumn('gol_visitante',col('gol_visitante').cast('integer')) "
   ]
  },
  {
   "cell_type": "code",
   "execution_count": 83,
   "id": "cbd40f4e-e348-453a-9d6c-64f753f732c5",
   "metadata": {},
   "outputs": [
    {
     "name": "stdout",
     "output_type": "stream",
     "text": [
      "root\n",
      " |-- dt: date (nullable = true)\n",
      " |-- mandante: string (nullable = true)\n",
      " |-- visitante: string (nullable = true)\n",
      " |-- gol_mandante: integer (nullable = true)\n",
      " |-- gol_visitante: integer (nullable = true)\n",
      " |-- torneio: string (nullable = true)\n",
      " |-- cidade: string (nullable = true)\n",
      " |-- pais: string (nullable = true)\n",
      "\n"
     ]
    }
   ],
   "source": [
    "final.printSchema()"
   ]
  },
  {
   "cell_type": "code",
   "execution_count": 85,
   "id": "b017a633-706a-4659-852f-dae00748c7fb",
   "metadata": {},
   "outputs": [
    {
     "name": "stdout",
     "output_type": "stream",
     "text": [
      "+-------+-------------+-------------+------------------+------------------+---------------+-------------------+-----------+\n",
      "|summary|     mandante|    visitante|      gol_mandante|     gol_visitante|        torneio|             cidade|       pais|\n",
      "+-------+-------------+-------------+------------------+------------------+---------------+-------------------+-----------+\n",
      "|  count|        40839|        40839|             40839|             40839|          40839|              40839|      40839|\n",
      "|   mean|         null|         null|1.7457087587844953| 1.188104507945836|           null|               null|       null|\n",
      "| stddev|         null|         null| 1.749144918253105|1.4051198000976632|           null|               null|       null|\n",
      "|    min|     Abkhazia|     Abkhazia|                 0|                 0|ABCS Tournament|6th of October City|Afghanistan|\n",
      "|    max|Åland Islands|Åland Islands|                31|                21|World Unity Cup|             ‘Atele|       Éire|\n",
      "+-------+-------------+-------------+------------------+------------------+---------------+-------------------+-----------+\n",
      "\n"
     ]
    }
   ],
   "source": [
    "final.describe().show()"
   ]
  },
  {
   "cell_type": "code",
   "execution_count": 91,
   "id": "387faa7c-6a69-4daa-a5f4-1a9ae6079eb3",
   "metadata": {},
   "outputs": [
    {
     "data": {
      "text/plain": [
       "DataFrame[dt: date, mandante: string, visitante: string, gol_mandante: int, gol_visitante: int, torneio: string, cidade: string, pais: string]"
      ]
     },
     "execution_count": 91,
     "metadata": {},
     "output_type": "execute_result"
    }
   ],
   "source": [
    "final.persist()"
   ]
  },
  {
   "cell_type": "code",
   "execution_count": 92,
   "id": "fddcfa3c-e48e-4267-9dd2-da2ed7bce05d",
   "metadata": {},
   "outputs": [
    {
     "data": {
      "text/plain": [
       "40839"
      ]
     },
     "execution_count": 92,
     "metadata": {},
     "output_type": "execute_result"
    }
   ],
   "source": [
    "final.count()"
   ]
  },
  {
   "cell_type": "code",
   "execution_count": 93,
   "id": "a9bd7211-dcb2-4fe2-b7da-1179d5fdc7fa",
   "metadata": {},
   "outputs": [],
   "source": [
    "final.createTempView('tab')"
   ]
  },
  {
   "cell_type": "code",
   "execution_count": 96,
   "id": "3679a04d-0735-4604-832e-49d02f74bd92",
   "metadata": {},
   "outputs": [
    {
     "name": "stdout",
     "output_type": "stream",
     "text": [
      "+---------+---------+-----------+\n",
      "|namespace|tableName|isTemporary|\n",
      "+---------+---------+-----------+\n",
      "|  default|    teste|      false|\n",
      "|  default|   teste2|      false|\n",
      "|  default|     city|      false|\n",
      "|  default|      csv|      false|\n",
      "|  default|     csv2|      false|\n",
      "|         |      tab|       true|\n",
      "+---------+---------+-----------+\n",
      "\n"
     ]
    }
   ],
   "source": [
    "spark.sql('show tables').show()"
   ]
  },
  {
   "cell_type": "code",
   "execution_count": 95,
   "id": "3c6d12f3-f4fb-4c82-8974-311f324a940b",
   "metadata": {},
   "outputs": [
    {
     "name": "stdout",
     "output_type": "stream",
     "text": [
      "+----------+--------+---------+------------+-------------+------------+--------------+---------+\n",
      "|        dt|mandante|visitante|gol_mandante|gol_visitante|     torneio|        cidade|     pais|\n",
      "+----------+--------+---------+------------+-------------+------------+--------------+---------+\n",
      "|1916-07-08|  Brazil|    Chile|           1|            1|Copa América|  Buenos Aires|Argentina|\n",
      "|1916-07-12|  Brazil|  Uruguay|           1|            2|Copa América|  Buenos Aires|Argentina|\n",
      "|1917-10-12|  Brazil|    Chile|           5|            0|Copa América|    Montevideo|  Uruguay|\n",
      "|1919-05-11|  Brazil|    Chile|           6|            0|Copa América|Rio de Janeiro|   Brazil|\n",
      "|1919-05-18|  Brazil|Argentina|           3|            1|Copa América|Rio de Janeiro|   Brazil|\n",
      "|1919-05-26|  Brazil|  Uruguay|           2|            2|Copa América|Rio de Janeiro|   Brazil|\n",
      "|1919-05-29|  Brazil|  Uruguay|           1|            0|Copa América|Rio de Janeiro|   Brazil|\n",
      "|1919-06-01|  Brazil|Argentina|           3|            3|    Friendly|Rio de Janeiro|   Brazil|\n",
      "|1920-09-18|  Brazil|  Uruguay|           0|            6|Copa América|  Viña del Mar|    Chile|\n",
      "|1921-10-12|  Brazil| Paraguay|           3|            0|Copa América|  Buenos Aires|Argentina|\n",
      "|1921-10-23|  Brazil|  Uruguay|           1|            2|Copa América|  Buenos Aires|Argentina|\n",
      "|1922-09-17|  Brazil|    Chile|           1|            1|Copa América|Rio de Janeiro|   Brazil|\n",
      "|1922-09-24|  Brazil| Paraguay|           1|            1|Copa América|Rio de Janeiro|   Brazil|\n",
      "|1922-10-01|  Brazil|  Uruguay|           0|            0|Copa América|Rio de Janeiro|   Brazil|\n",
      "|1922-10-15|  Brazil|Argentina|           2|            0|Copa América|Rio de Janeiro|   Brazil|\n",
      "|1922-10-22|  Brazil| Paraguay|           3|            0|Copa América|Rio de Janeiro|   Brazil|\n",
      "|1922-10-22|  Brazil|Argentina|           2|            1|   Copa Roca|     São Paulo|   Brazil|\n",
      "|1922-10-29|  Brazil| Paraguay|           3|            1|    Friendly|     São Paulo|   Brazil|\n",
      "|1923-11-11|  Brazil| Paraguay|           0|            1|Copa América|    Montevideo|  Uruguay|\n",
      "|1923-11-22|  Brazil| Paraguay|           2|            0|    Friendly|    Montevideo|  Uruguay|\n",
      "+----------+--------+---------+------------+-------------+------------+--------------+---------+\n",
      "only showing top 20 rows\n",
      "\n"
     ]
    }
   ],
   "source": [
    "final.where(final.mandante == 'Brazil').show()"
   ]
  },
  {
   "cell_type": "code",
   "execution_count": 121,
   "id": "bdbffa47-432e-4b55-b90e-9efbc132343d",
   "metadata": {},
   "outputs": [
    {
     "name": "stdout",
     "output_type": "stream",
     "text": [
      "+-------------------+\n",
      "|               pais|\n",
      "+-------------------+\n",
      "|           Scotland|\n",
      "|            England|\n",
      "|           Scotland|\n",
      "|            England|\n",
      "|           Scotland|\n",
      "|           Scotland|\n",
      "|            England|\n",
      "|              Wales|\n",
      "|           Scotland|\n",
      "|           Scotland|\n",
      "|            England|\n",
      "|            England|\n",
      "|              Wales|\n",
      "|           Scotland|\n",
      "|              Wales|\n",
      "|           Scotland|\n",
      "|            England|\n",
      "|            England|\n",
      "|              Wales|\n",
      "|Republic of Ireland|\n",
      "+-------------------+\n",
      "only showing top 20 rows\n",
      "\n"
     ]
    }
   ],
   "source": [
    "spark.sql('select pais from tab').show()"
   ]
  },
  {
   "cell_type": "code",
   "execution_count": 119,
   "id": "d373e5c3-7665-426b-8c17-4386c2ae8609",
   "metadata": {},
   "outputs": [
    {
     "name": "stdout",
     "output_type": "stream",
     "text": [
      "+--------------------+-----------+\n",
      "|                pais|count(pais)|\n",
      "+--------------------+-----------+\n",
      "|       United States|       1144|\n",
      "|              France|        801|\n",
      "|             England|        687|\n",
      "|            Malaysia|        644|\n",
      "|              Sweden|        637|\n",
      "|             Germany|        581|\n",
      "|              Brazil|        529|\n",
      "|               Spain|        517|\n",
      "|            Thailand|        483|\n",
      "|               Italy|        480|\n",
      "|         Switzerland|        477|\n",
      "|             Austria|        475|\n",
      "|United Arab Emirates|        472|\n",
      "|        South Africa|        470|\n",
      "|               Qatar|        467|\n",
      "|         South Korea|        453|\n",
      "|           Argentina|        449|\n",
      "|             Hungary|        431|\n",
      "|               Chile|        405|\n",
      "|             Belgium|        396|\n",
      "+--------------------+-----------+\n",
      "only showing top 20 rows\n",
      "\n"
     ]
    }
   ],
   "source": [
    "final \\\n",
    "    .groupby('pais') \\\n",
    "    .agg({'pais':'count'}) \\\n",
    "    .orderBy('count(pais)', ascending = False) \\\n",
    "    .show()"
   ]
  },
  {
   "cell_type": "code",
   "execution_count": null,
   "id": "0bbd7217-31b7-43fd-a510-a06e6cd8c1ec",
   "metadata": {},
   "outputs": [],
   "source": []
  }
 ],
 "metadata": {
  "kernelspec": {
   "display_name": "Python 3 (ipykernel)",
   "language": "python",
   "name": "python3"
  },
  "language_info": {
   "codemirror_mode": {
    "name": "ipython",
    "version": 3
   },
   "file_extension": ".py",
   "mimetype": "text/x-python",
   "name": "python",
   "nbconvert_exporter": "python",
   "pygments_lexer": "ipython3",
   "version": "3.10.8"
  }
 },
 "nbformat": 4,
 "nbformat_minor": 5
}
