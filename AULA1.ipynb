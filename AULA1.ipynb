{
 "cells": [
  {
   "cell_type": "code",
   "execution_count": 1,
   "id": "3def79cc-8dbe-42f4-9c78-5481cbe86f50",
   "metadata": {},
   "outputs": [],
   "source": [
    "from pyspark.sql import SparkSession"
   ]
  },
  {
   "cell_type": "code",
   "execution_count": 6,
   "id": "4250d9af-ddc3-411e-98de-49a55c376144",
   "metadata": {},
   "outputs": [],
   "source": [
    "spark = SparkSession \\\n",
    "       .builder \\\n",
    "       .appName('Aula') \\\n",
    "       .enableHiveSupport() \\\n",
    "       .getOrCreate()"
   ]
  },
  {
   "cell_type": "code",
   "execution_count": 7,
   "id": "e91b4193-2e56-4a03-a069-bf051088616d",
   "metadata": {},
   "outputs": [
    {
     "data": {
      "text/html": [
       "\n",
       "            <div>\n",
       "                <p><b>SparkSession - hive</b></p>\n",
       "                \n",
       "        <div>\n",
       "            <p><b>SparkContext</b></p>\n",
       "\n",
       "            <p><a href=\"http://spark-master:4040\">Spark UI</a></p>\n",
       "\n",
       "            <dl>\n",
       "              <dt>Version</dt>\n",
       "                <dd><code>v3.3.1</code></dd>\n",
       "              <dt>Master</dt>\n",
       "                <dd><code>local[*]</code></dd>\n",
       "              <dt>AppName</dt>\n",
       "                <dd><code>Aula</code></dd>\n",
       "            </dl>\n",
       "        </div>\n",
       "        \n",
       "            </div>\n",
       "        "
      ],
      "text/plain": [
       "<pyspark.sql.session.SparkSession at 0x7ff61fb5b5b0>"
      ]
     },
     "execution_count": 7,
     "metadata": {},
     "output_type": "execute_result"
    }
   ],
   "source": [
    "spark"
   ]
  },
  {
   "cell_type": "code",
   "execution_count": 8,
   "id": "4fbba989-0f64-4663-8c78-3666631c665d",
   "metadata": {},
   "outputs": [],
   "source": [
    "df_aluno = spark.createDataFrame([\n",
    "        {\"id\": 1,\"nome\": \"fabio\"},\n",
    "        {\"id\": 2,\"nome\": \"pedro\"}\n",
    "])"
   ]
  },
  {
   "cell_type": "code",
   "execution_count": 9,
   "id": "099d3997-916d-4f46-b1ad-b6b2fb7d5aa6",
   "metadata": {},
   "outputs": [
    {
     "data": {
      "text/plain": [
       "pyspark.sql.dataframe.DataFrame"
      ]
     },
     "execution_count": 9,
     "metadata": {},
     "output_type": "execute_result"
    }
   ],
   "source": [
    "type(df_aluno)"
   ]
  },
  {
   "cell_type": "code",
   "execution_count": 10,
   "id": "d40f41a4-b212-4541-9cda-e4b0173b71dc",
   "metadata": {},
   "outputs": [
    {
     "name": "stdout",
     "output_type": "stream",
     "text": [
      "+---+-----+\n",
      "| id| nome|\n",
      "+---+-----+\n",
      "|  1|fabio|\n",
      "|  2|pedro|\n",
      "+---+-----+\n",
      "\n"
     ]
    }
   ],
   "source": [
    "df_aluno.show()"
   ]
  },
  {
   "cell_type": "code",
   "execution_count": 11,
   "id": "810b577b-1340-4f12-8054-0ce36b08e5f9",
   "metadata": {},
   "outputs": [],
   "source": [
    "##CSV HADOOP"
   ]
  },
  {
   "cell_type": "code",
   "execution_count": 14,
   "id": "771024c1-1f37-4b20-a2a0-038ea30e8cbe",
   "metadata": {},
   "outputs": [],
   "source": [
    "df_csv = spark.read.csv('/datalake/raw/base.csv',header=True,sep=',')"
   ]
  },
  {
   "cell_type": "code",
   "execution_count": 15,
   "id": "47735f82-bed3-41a3-ad07-3d2a1886f372",
   "metadata": {},
   "outputs": [
    {
     "name": "stdout",
     "output_type": "stream",
     "text": [
      "+-------+----+---------+\n",
      "|usuario|item|avaliacao|\n",
      "+-------+----+---------+\n",
      "|    109|   9|        3|\n",
      "|    174| 412|        1|\n",
      "|      7| 208|        5|\n",
      "|    371|  97|        5|\n",
      "|    296| 255|        2|\n",
      "|    280|  82|        2|\n",
      "|    271| 275|        4|\n",
      "|    110| 791|        2|\n",
      "|     59| 926|        1|\n",
      "|    217| 576|        1|\n",
      "|    145| 665|        5|\n",
      "|    334| 204|        4|\n",
      "|     42| 568|        4|\n",
      "|    200| 143|        5|\n",
      "|     89| 387|        5|\n",
      "|    311| 588|        4|\n",
      "|    235| 269|        4|\n",
      "|    287| 156|        5|\n",
      "|    344| 204|        4|\n",
      "|     43| 289|        4|\n",
      "+-------+----+---------+\n",
      "only showing top 20 rows\n",
      "\n"
     ]
    }
   ],
   "source": [
    "df_csv.show()"
   ]
  },
  {
   "cell_type": "code",
   "execution_count": 16,
   "id": "6ce5835f-c54e-4e53-a298-26a4d73cd282",
   "metadata": {},
   "outputs": [],
   "source": [
    "df_json = spark.read.json('/datalake/raw/Employees100K.json')"
   ]
  },
  {
   "cell_type": "code",
   "execution_count": 17,
   "id": "91b7819c-bc88-49f5-a437-ad8f00d91df6",
   "metadata": {},
   "outputs": [
    {
     "data": {
      "text/plain": [
       "200000"
      ]
     },
     "execution_count": 17,
     "metadata": {},
     "output_type": "execute_result"
    }
   ],
   "source": [
    "df_json.count()"
   ]
  },
  {
   "cell_type": "code",
   "execution_count": 18,
   "id": "4049d565-e7ca-41a0-a443-f58b60cf9f9d",
   "metadata": {},
   "outputs": [
    {
     "name": "stdout",
     "output_type": "stream",
     "text": [
      "root\n",
      " |-- Address: string (nullable = true)\n",
      " |-- Age: long (nullable = true)\n",
      " |-- DateOfJoining: string (nullable = true)\n",
      " |-- Designation: string (nullable = true)\n",
      " |-- FirstName: string (nullable = true)\n",
      " |-- Gender: string (nullable = true)\n",
      " |-- Interests: string (nullable = true)\n",
      " |-- LastName: string (nullable = true)\n",
      " |-- MaritalStatus: string (nullable = true)\n",
      " |-- Salary: string (nullable = true)\n",
      " |-- index: struct (nullable = true)\n",
      " |    |-- _index: string (nullable = true)\n",
      " |    |-- _type: string (nullable = true)\n",
      "\n"
     ]
    }
   ],
   "source": [
    "df_json.printSchema()"
   ]
  },
  {
   "cell_type": "code",
   "execution_count": 19,
   "id": "1d9789e8-47c8-48a1-b089-fb1cce25c8b1",
   "metadata": {},
   "outputs": [],
   "source": [
    "#S3\n"
   ]
  },
  {
   "cell_type": "code",
   "execution_count": 23,
   "id": "38f2f901-87e9-441e-ab75-086fca12883d",
   "metadata": {},
   "outputs": [],
   "source": [
    "df_dados = spark.read.json('s3a://camada-bronze/dados')"
   ]
  },
  {
   "cell_type": "code",
   "execution_count": 24,
   "id": "480af3f0-5bc5-42ce-bcad-1682806c622e",
   "metadata": {},
   "outputs": [
    {
     "name": "stdout",
     "output_type": "stream",
     "text": [
      "+------------+------+-----+---------+-----------------+-------+-----+\n",
      "|estado_civil|genero|idade|  produto|produto_categoria|usuario|valor|\n",
      "+------------+------+-----+---------+-----------------+-------+-----+\n",
      "|           0|     M|36-45|P00265242|                5|1001640| 8771|\n",
      "|           0|     M|36-45|P00250342|               16|1001640| 8146|\n",
      "|           0|     M|36-45|P00148542|                1|1001640| 7949|\n",
      "|           0|     M|36-45|P00071242|                1|1001640|11506|\n",
      "|           0|     M|26-35|P00363442|                1|1001641|15624|\n",
      "|           0|     M|26-35|P00355142|                1|1001641|19000|\n",
      "|           0|     M|26-35|P00350442|                2|1001641| 6630|\n",
      "|           0|     M|26-35|P00024742|                8|1001641| 9823|\n",
      "|           0|     M|26-35|P00226942|               11|1001641| 1715|\n",
      "|           0|     M|26-35|P00184942|                1|1001641|19692|\n",
      "|           0|     M|26-35|P00358242|                8|1001641| 6071|\n",
      "|           0|     M|51-55|P00116142|               10|1001642|18436|\n",
      "|           0|     M|51-55|P00295242|                8|1001642| 7777|\n",
      "|           0|     M|51-55|P00339842|                1|1001642|11927|\n",
      "|           0|     M|51-55|P00339542|                1|1001642|11713|\n",
      "|           0|     M|51-55|P00183442|                1|1001642|12058|\n",
      "|           0|     M|46-50|P00184042|                1|1001643|19353|\n",
      "|           0|     M|46-50|P00237542|                1|1001643|19289|\n",
      "|           0|     M|46-50|P00002142|                1|1001643|19419|\n",
      "|           0|     M|46-50|P00057442|                5|1001643| 8829|\n",
      "+------------+------+-----+---------+-----------------+-------+-----+\n",
      "only showing top 20 rows\n",
      "\n"
     ]
    }
   ],
   "source": [
    "df_dados.show()"
   ]
  },
  {
   "cell_type": "code",
   "execution_count": 25,
   "id": "b8222f41-5212-43bf-896d-b05d966ca5e6",
   "metadata": {},
   "outputs": [],
   "source": [
    "##BANCO DE DADOS"
   ]
  },
  {
   "cell_type": "code",
   "execution_count": 50,
   "id": "5f03621e-31fa-41e6-a9cc-84171f346846",
   "metadata": {},
   "outputs": [],
   "source": [
    "conn = 'jdbc:postgresql://postgres:5432/dvdrental'"
   ]
  },
  {
   "cell_type": "code",
   "execution_count": 51,
   "id": "83cfecf5-fa42-4016-9cbf-37760bff6ce1",
   "metadata": {},
   "outputs": [],
   "source": [
    "prop = { \n",
    "    \"user\":\"admin\",\n",
    "    \"password\" : \"admin\",\n",
    "    \"driver\" : \"org.postgresql.Driver\"\n",
    "}"
   ]
  },
  {
   "cell_type": "code",
   "execution_count": 37,
   "id": "b18c67f3-de29-4ae1-aeb7-3125189a2ee4",
   "metadata": {},
   "outputs": [],
   "source": [
    "df_city = spark.read.jdbc(url=conn,table='public.city',properties=prop)"
   ]
  },
  {
   "cell_type": "code",
   "execution_count": 38,
   "id": "20eb4e09-0b77-4618-bf58-741b60fb3436",
   "metadata": {},
   "outputs": [
    {
     "name": "stdout",
     "output_type": "stream",
     "text": [
      "+-------+--------------------+----------+-------------------+\n",
      "|city_id|                city|country_id|        last_update|\n",
      "+-------+--------------------+----------+-------------------+\n",
      "|      2|                Abha|        82|2006-02-15 09:45:25|\n",
      "|      3|           Abu Dhabi|       101|2006-02-15 09:45:25|\n",
      "|      4|                Acua|        60|2006-02-15 09:45:25|\n",
      "|      5|               Adana|        97|2006-02-15 09:45:25|\n",
      "|      6|         Addis Abeba|        31|2006-02-15 09:45:25|\n",
      "|      7|                Aden|       107|2006-02-15 09:45:25|\n",
      "|      8|               Adoni|        44|2006-02-15 09:45:25|\n",
      "|      9|          Ahmadnagar|        44|2006-02-15 09:45:25|\n",
      "|     10|            Akishima|        50|2006-02-15 09:45:25|\n",
      "|     11|               Akron|       103|2006-02-15 09:45:25|\n",
      "|     12|              al-Ayn|       101|2006-02-15 09:45:25|\n",
      "|     13|           al-Hawiya|        82|2006-02-15 09:45:25|\n",
      "|     14|           al-Manama|        11|2006-02-15 09:45:25|\n",
      "|     15|          al-Qadarif|        89|2006-02-15 09:45:25|\n",
      "|     16|            al-Qatif|        82|2006-02-15 09:45:25|\n",
      "|     17|         Alessandria|        49|2006-02-15 09:45:25|\n",
      "|     18|Allappuzha (Allep...|        44|2006-02-15 09:45:25|\n",
      "|     19|             Allende|        60|2006-02-15 09:45:25|\n",
      "|     20|     Almirante Brown|         6|2006-02-15 09:45:25|\n",
      "|     21|            Alvorada|        15|2006-02-15 09:45:25|\n",
      "+-------+--------------------+----------+-------------------+\n",
      "only showing top 20 rows\n",
      "\n"
     ]
    }
   ],
   "source": [
    "df_city.show()"
   ]
  },
  {
   "cell_type": "code",
   "execution_count": 39,
   "id": "414c41ad-1cf3-4712-a2ba-138392449e5c",
   "metadata": {},
   "outputs": [
    {
     "name": "stdout",
     "output_type": "stream",
     "text": [
      "root\n",
      " |-- city_id: integer (nullable = true)\n",
      " |-- city: string (nullable = true)\n",
      " |-- country_id: short (nullable = true)\n",
      " |-- last_update: timestamp (nullable = true)\n",
      "\n"
     ]
    }
   ],
   "source": [
    "df_city.printSchema()"
   ]
  },
  {
   "cell_type": "code",
   "execution_count": 52,
   "id": "618dffea-857a-413b-a2c5-f895423f5102",
   "metadata": {},
   "outputs": [],
   "source": [
    "query = '(select c.city_id, city , country  from public.city c \\\n",
    "inner join public.country c2 on c.country_id = c2.country_id ) as tab'"
   ]
  },
  {
   "cell_type": "code",
   "execution_count": 53,
   "id": "b04f9f47-d98e-4b0e-a806-1ee790cc574b",
   "metadata": {},
   "outputs": [],
   "source": [
    "df_query = spark.read.jdbc(url=conn,table=query,properties=prop)"
   ]
  },
  {
   "cell_type": "code",
   "execution_count": 56,
   "id": "063f1e5c-e1ef-4d41-bedd-cefbccf9a298",
   "metadata": {},
   "outputs": [
    {
     "name": "stdout",
     "output_type": "stream",
     "text": [
      "+-------+-----------+--------------------+\n",
      "|city_id|       city|             country|\n",
      "+-------+-----------+--------------------+\n",
      "|      2|       Abha|        Saudi Arabia|\n",
      "|      3|  Abu Dhabi|United Arab Emirates|\n",
      "|      4|       Acua|              Mexico|\n",
      "|      5|      Adana|              Turkey|\n",
      "|      6|Addis Abeba|            Ethiopia|\n",
      "+-------+-----------+--------------------+\n",
      "only showing top 5 rows\n",
      "\n"
     ]
    }
   ],
   "source": [
    "df_query.show(5)"
   ]
  },
  {
   "cell_type": "code",
   "execution_count": 58,
   "id": "77ad6a49-439e-4d03-adf5-3adcbf282a41",
   "metadata": {},
   "outputs": [],
   "source": [
    "df_csv.write.json('/datalake/trusted/json/')"
   ]
  },
  {
   "cell_type": "code",
   "execution_count": 59,
   "id": "98c48aea-485c-4c7d-96e8-9abe3c343c1d",
   "metadata": {},
   "outputs": [],
   "source": [
    "df_csv.write.parquet('/datalake/trusted/parquet/')"
   ]
  },
  {
   "cell_type": "code",
   "execution_count": 61,
   "id": "2aa2c804-4598-490a-a6ff-1dc54a57e9d5",
   "metadata": {},
   "outputs": [],
   "source": [
    "df_parquet = spark.read.parquet('/datalake/trusted/parquet')"
   ]
  },
  {
   "cell_type": "code",
   "execution_count": 62,
   "id": "9fec16c6-c7cd-4944-9b05-3a9d23e8720d",
   "metadata": {},
   "outputs": [
    {
     "name": "stdout",
     "output_type": "stream",
     "text": [
      "+-------+----+---------+\n",
      "|usuario|item|avaliacao|\n",
      "+-------+----+---------+\n",
      "|    109|   9|        3|\n",
      "|    174| 412|        1|\n",
      "|      7| 208|        5|\n",
      "|    371|  97|        5|\n",
      "|    296| 255|        2|\n",
      "+-------+----+---------+\n",
      "only showing top 5 rows\n",
      "\n"
     ]
    }
   ],
   "source": [
    "df_parquet.show(5)"
   ]
  },
  {
   "cell_type": "code",
   "execution_count": 65,
   "id": "3a86a781-901f-42d3-9f70-890167b85ea0",
   "metadata": {},
   "outputs": [],
   "source": [
    "df_csv.write.orc('/datalake/trusted/orc/', mode='append',compression='zlib')"
   ]
  },
  {
   "cell_type": "code",
   "execution_count": 66,
   "id": "bc01876a-dfb4-4b1b-a121-2657fc497f18",
   "metadata": {},
   "outputs": [],
   "source": [
    "df_csv.write.format('hive').saveAsTable('default.csv')"
   ]
  },
  {
   "cell_type": "code",
   "execution_count": 67,
   "id": "b8562a61-475c-4a15-ae36-1bcf71897639",
   "metadata": {},
   "outputs": [],
   "source": [
    "df_csv.write.format('hive').insertInto('default.csv2')"
   ]
  },
  {
   "cell_type": "code",
   "execution_count": null,
   "id": "278e39fc-366c-4966-898d-d17252841028",
   "metadata": {},
   "outputs": [],
   "source": []
  }
 ],
 "metadata": {
  "kernelspec": {
   "display_name": "Python 3 (ipykernel)",
   "language": "python",
   "name": "python3"
  },
  "language_info": {
   "codemirror_mode": {
    "name": "ipython",
    "version": 3
   },
   "file_extension": ".py",
   "mimetype": "text/x-python",
   "name": "python",
   "nbconvert_exporter": "python",
   "pygments_lexer": "ipython3",
   "version": "3.10.8"
  }
 },
 "nbformat": 4,
 "nbformat_minor": 5
}
